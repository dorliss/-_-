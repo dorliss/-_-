{
  "cells": [
    {
      "cell_type": "markdown",
      "id": "7511cb73-56b8-4846-84ef-119be1af64c9",
      "metadata": {
        "id": "7511cb73-56b8-4846-84ef-119be1af64c9"
      },
      "source": []
    },
    {
      "cell_type": "code",
      "execution_count": 2,
      "id": "d03437b0-71af-474d-afcc-943a67f1dda9",
      "metadata": {
        "id": "d03437b0-71af-474d-afcc-943a67f1dda9"
      },
      "outputs": [],
      "source": [
        "import json\n",
        "import numpy as np\n",
        "import tensorflow as tf\n",
        "import matplotlib.pyplot as plt\n",
        "from sklearn.preprocessing import LabelEncoder\n",
        "from tensorflow.keras.preprocessing.text import Tokenizer\n",
        "from tensorflow.keras.preprocessing.sequence import pad_sequences"
      ]
    },
    {
      "cell_type": "code",
      "execution_count": 3,
      "id": "HZyK8_nhH7A4",
      "metadata": {
        "colab": {
          "base_uri": "https://localhost:8080/"
        },
        "id": "HZyK8_nhH7A4",
        "outputId": "08f1c009-e749-494a-dab3-870f2404a471"
      },
      "outputs": [
        {
          "output_type": "stream",
          "name": "stdout",
          "text": [
            "Mounted at /content/drive\n"
          ]
        }
      ],
      "source": [
        "from google.colab import drive\n",
        "drive.mount('/content/drive')"
      ]
    },
    {
      "cell_type": "code",
      "execution_count": 4,
      "id": "95f53234-e815-45e8-a4a0-558a0ac06cd4",
      "metadata": {
        "id": "95f53234-e815-45e8-a4a0-558a0ac06cd4",
        "colab": {
          "base_uri": "https://localhost:8080/"
        },
        "outputId": "236c3d8c-7870-49ae-c56d-43570db89116"
      },
      "outputs": [
        {
          "output_type": "stream",
          "name": "stdout",
          "text": [
            "Данные загружены успешно!\n"
          ]
        }
      ],
      "source": [
        "import json\n",
        "\n",
        "# Путь к вашим файлам на Google Диске\n",
        "train_scenes_path = '/content/drive/My Drive/CLEVR/scenes/CLEVR_train_scenes.json'\n",
        "train_questions_path = '/content/drive/My Drive/CLEVR/questions/CLEVR_train_questions.json'\n",
        "val_scenes_path = '/content/drive/My Drive/CLEVR/scenes/CLEVR_val_scenes.json'\n",
        "val_questions_path = '/content/drive/My Drive/CLEVR/questions/CLEVR_val_questions.json'\n",
        "\n",
        "# Загрузка JSON-файлов\n",
        "with open(train_scenes_path, 'r') as f:\n",
        "    train_scenes = json.load(f)\n",
        "\n",
        "with open(train_questions_path, 'r') as f:\n",
        "    train_questions = json.load(f)\n",
        "\n",
        "with open(val_scenes_path, 'r') as f:\n",
        "    val_scenes = json.load(f)\n",
        "\n",
        "with open(val_questions_path, 'r') as f:\n",
        "    val_questions = json.load(f)\n",
        "\n",
        "# Теперь данные загружены в переменные\n",
        "print(\"Данные загружены успешно!\")\n",
        "\n"
      ]
    },
    {
      "cell_type": "code",
      "execution_count": 5,
      "id": "be47c27f-4724-468a-b6f6-489d27733d74",
      "metadata": {
        "id": "be47c27f-4724-468a-b6f6-489d27733d74",
        "colab": {
          "base_uri": "https://localhost:8080/"
        },
        "outputId": "69b56d80-e1cb-449a-c6bc-60da64e30ec6"
      },
      "outputs": [
        {
          "output_type": "stream",
          "name": "stdout",
          "text": [
            "Combined questions for tokenization\n",
            "Tokenizer initialized\n",
            "Train & Val seq converted\n"
          ]
        }
      ],
      "source": [
        "all_questions = [q['question'] for q in train_questions['questions'] + val_questions['questions']]\n",
        "print(\"Combined questions for tokenization\")\n",
        "\n",
        "question_tokenizer = Tokenizer(oov_token='<OOV>')\n",
        "question_tokenizer.fit_on_texts(all_questions)\n",
        "print(\"Tokenizer initialized\")\n",
        "\n",
        "X_train_questions_seq = question_tokenizer.texts_to_sequences([q['question'] for q in train_questions['questions']])\n",
        "X_val_questions_seq = question_tokenizer.texts_to_sequences([q['question'] for q in val_questions['questions']])\n",
        "print(\"Train & Val seq converted\")\n",
        "\n",
        "max_question_length = max(len(seq) for seq in X_train_questions_seq + X_val_questions_seq) # max len for padding.\n",
        "X_train_questions_padded = pad_sequences(X_train_questions_seq, maxlen=max_question_length, padding='post')\n",
        "X_val_questions_padded = pad_sequences(X_val_questions_seq, maxlen=max_question_length, padding='post')"
      ]
    },
    {
      "cell_type": "code",
      "execution_count": 6,
      "id": "250cac3b-4418-4f17-9414-7e70ad7c36ce",
      "metadata": {
        "id": "250cac3b-4418-4f17-9414-7e70ad7c36ce",
        "colab": {
          "base_uri": "https://localhost:8080/"
        },
        "outputId": "51800478-e4cd-4a28-bc6c-df9c3b67afb9"
      },
      "outputs": [
        {
          "output_type": "stream",
          "name": "stdout",
          "text": [
            "Train & Val data extracted\n"
          ]
        }
      ],
      "source": [
        "def extract_features(scene):\n",
        "    features = []\n",
        "    for obj in scene['objects']:\n",
        "        attributes = [obj['size'], obj['color'], obj['material'], obj['shape']] # size, color, shape etc...\n",
        "        features.extend(attributes)\n",
        "    return features\n",
        "\n",
        "def prep_dataset(scenes, questions):\n",
        "    X = []\n",
        "    y = []\n",
        "    s_dict = {scene['image_index']: scene for scene in scenes['scenes']} # dict for quick access.\n",
        "    for question in questions['questions']:\n",
        "        image_index = question['image_index']\n",
        "        if image_index in s_dict:\n",
        "            scene = s_dict[image_index] # corresponding scene\n",
        "            features = extract_features(scene)\n",
        "            X.append(features)\n",
        "            y.append(question['answer'])\n",
        "    return X, y\n",
        "\n",
        "X_train_scenes_raw, y_train_raw = prep_dataset(train_scenes, train_questions)\n",
        "X_val_scenes_raw, y_val_raw = prep_dataset(val_scenes, val_questions)\n",
        "print(\"Train & Val data extracted\")\n",
        "\n",
        "all_features = [item for sublist in X_train_scenes_raw + X_val_scenes_raw for item in sublist] # combining features of scenes\n",
        "scene_encoder = LabelEncoder() # labelencoder\n",
        "scene_encoder.fit(all_features)\n",
        "\n",
        "X_train_scenes_encoded = [scene_encoder.transform(features) for features in X_train_scenes_raw]\n",
        "X_val_scenes_encoded = [scene_encoder.transform(features) for features in X_val_scenes_raw]\n",
        "\n",
        "max_scene_length = max(len(seq) for seq in X_train_scenes_encoded + X_val_scenes_encoded) # max len for padding.\n",
        "X_train_scenes_padded = pad_sequences(X_train_scenes_encoded, maxlen=max_scene_length, padding='post')\n",
        "X_val_scenes_padded = pad_sequences(X_val_scenes_encoded, maxlen=max_scene_length, padding='post')"
      ]
    },
    {
      "cell_type": "code",
      "execution_count": 7,
      "id": "fd110141-5f45-4132-8509-eb140f6b4457",
      "metadata": {
        "id": "fd110141-5f45-4132-8509-eb140f6b4457"
      },
      "outputs": [],
      "source": [
        "# label encoding\n",
        "all_answers = y_train_raw + y_val_raw\n",
        "\n",
        "label_encoder = LabelEncoder()\n",
        "label_encoder.fit(all_answers)\n",
        "\n",
        "y_train_encoded = label_encoder.transform(y_train_raw)\n",
        "y_val_encoded = label_encoder.transform(y_val_raw)"
      ]
    },
    {
      "cell_type": "markdown",
      "id": "fcc3df30-cef7-4cb3-b9ac-a2bcfc5d6180",
      "metadata": {
        "id": "fcc3df30-cef7-4cb3-b9ac-a2bcfc5d6180"
      },
      "source": [
        "### Model"
      ]
    },
    {
      "cell_type": "code",
      "execution_count": 8,
      "id": "775a6f41-a402-40c2-a883-c6169ae7683e",
      "metadata": {
        "id": "775a6f41-a402-40c2-a883-c6169ae7683e"
      },
      "outputs": [],
      "source": [
        "# question\n",
        "q_input = tf.keras.layers.Input(shape=(max_question_length,), name='question_input')\n",
        "q_embedding = tf.keras.layers.Embedding(\n",
        "    input_dim=len(question_tokenizer.word_index) + 1,  # +1 for OOV (out of voc)\n",
        "    output_dim=128, # dims\n",
        "    mask_zero=True # mask\n",
        ")(q_input)\n",
        "question_lstm = tf.keras.layers.LSTM(64)(q_embedding) # lstm layer"
      ]
    },
    {
      "cell_type": "code",
      "execution_count": 9,
      "id": "13034f1b-8717-4aeb-8b02-a3eb238259db",
      "metadata": {
        "id": "13034f1b-8717-4aeb-8b02-a3eb238259db"
      },
      "outputs": [],
      "source": [
        "# scene\n",
        "s_input = tf.keras.layers.Input(shape=(max_scene_length,), name='scene_input')\n",
        "s_embedding = tf.keras.layers.Embedding(\n",
        "    input_dim=len(scene_encoder.classes_),\n",
        "    output_dim=128,\n",
        "    mask_zero=True\n",
        ")(s_input)\n",
        "scene_lstm = tf.keras.layers.LSTM(64)(s_embedding)"
      ]
    },
    {
      "cell_type": "code",
      "execution_count": 10,
      "id": "cc227876-864d-4a1d-885f-66e3999706f1",
      "metadata": {
        "id": "cc227876-864d-4a1d-885f-66e3999706f1"
      },
      "outputs": [],
      "source": [
        "combined = tf.keras.layers.concatenate([question_lstm, scene_lstm])\n",
        "fc1 = tf.keras.layers.Dense(64, activation='relu')(combined)\n",
        "output = tf.keras.layers.Dense(len(label_encoder.classes_), activation='softmax')(fc1)\n",
        "model = tf.keras.models.Model(inputs=[q_input, s_input], outputs=output)"
      ]
    },
    {
      "cell_type": "code",
      "execution_count": 11,
      "id": "7f4b0524-8515-46e5-9c3e-49552abe205a",
      "metadata": {
        "id": "7f4b0524-8515-46e5-9c3e-49552abe205a"
      },
      "outputs": [],
      "source": [
        "model.compile(optimizer='adam', loss='sparse_categorical_crossentropy', metrics=['accuracy'])"
      ]
    },
    {
      "cell_type": "code",
      "execution_count": 12,
      "id": "90b6ec57-5d95-404e-a7cf-136420bc672c",
      "metadata": {
        "id": "90b6ec57-5d95-404e-a7cf-136420bc672c",
        "colab": {
          "base_uri": "https://localhost:8080/",
          "height": 562
        },
        "outputId": "50cbb73b-845d-4bff-bd62-59f391939b50"
      },
      "outputs": [
        {
          "output_type": "display_data",
          "data": {
            "text/plain": [
              "\u001b[1mModel: \"functional\"\u001b[0m\n"
            ],
            "text/html": [
              "<pre style=\"white-space:pre;overflow-x:auto;line-height:normal;font-family:Menlo,'DejaVu Sans Mono',consolas,'Courier New',monospace\"><span style=\"font-weight: bold\">Model: \"functional\"</span>\n",
              "</pre>\n"
            ]
          },
          "metadata": {}
        },
        {
          "output_type": "display_data",
          "data": {
            "text/plain": [
              "┏━━━━━━━━━━━━━━━━━━━━━━━━━━━┳━━━━━━━━━━━━━━━━━━━━━━━━┳━━━━━━━━━━━━━━━━┳━━━━━━━━━━━━━━━━━━━━━━━━┓\n",
              "┃\u001b[1m \u001b[0m\u001b[1mLayer (type)             \u001b[0m\u001b[1m \u001b[0m┃\u001b[1m \u001b[0m\u001b[1mOutput Shape          \u001b[0m\u001b[1m \u001b[0m┃\u001b[1m \u001b[0m\u001b[1m       Param #\u001b[0m\u001b[1m \u001b[0m┃\u001b[1m \u001b[0m\u001b[1mConnected to          \u001b[0m\u001b[1m \u001b[0m┃\n",
              "┡━━━━━━━━━━━━━━━━━━━━━━━━━━━╇━━━━━━━━━━━━━━━━━━━━━━━━╇━━━━━━━━━━━━━━━━╇━━━━━━━━━━━━━━━━━━━━━━━━┩\n",
              "│ question_input            │ (\u001b[38;5;45mNone\u001b[0m, \u001b[38;5;34m43\u001b[0m)             │              \u001b[38;5;34m0\u001b[0m │ -                      │\n",
              "│ (\u001b[38;5;33mInputLayer\u001b[0m)              │                        │                │                        │\n",
              "├───────────────────────────┼────────────────────────┼────────────────┼────────────────────────┤\n",
              "│ scene_input (\u001b[38;5;33mInputLayer\u001b[0m)  │ (\u001b[38;5;45mNone\u001b[0m, \u001b[38;5;34m40\u001b[0m)             │              \u001b[38;5;34m0\u001b[0m │ -                      │\n",
              "├───────────────────────────┼────────────────────────┼────────────────┼────────────────────────┤\n",
              "│ embedding (\u001b[38;5;33mEmbedding\u001b[0m)     │ (\u001b[38;5;45mNone\u001b[0m, \u001b[38;5;34m43\u001b[0m, \u001b[38;5;34m128\u001b[0m)        │         \u001b[38;5;34m10,496\u001b[0m │ question_input[\u001b[38;5;34m0\u001b[0m][\u001b[38;5;34m0\u001b[0m]   │\n",
              "├───────────────────────────┼────────────────────────┼────────────────┼────────────────────────┤\n",
              "│ not_equal (\u001b[38;5;33mNotEqual\u001b[0m)      │ (\u001b[38;5;45mNone\u001b[0m, \u001b[38;5;34m43\u001b[0m)             │              \u001b[38;5;34m0\u001b[0m │ question_input[\u001b[38;5;34m0\u001b[0m][\u001b[38;5;34m0\u001b[0m]   │\n",
              "├───────────────────────────┼────────────────────────┼────────────────┼────────────────────────┤\n",
              "│ embedding_1 (\u001b[38;5;33mEmbedding\u001b[0m)   │ (\u001b[38;5;45mNone\u001b[0m, \u001b[38;5;34m40\u001b[0m, \u001b[38;5;34m128\u001b[0m)        │          \u001b[38;5;34m1,920\u001b[0m │ scene_input[\u001b[38;5;34m0\u001b[0m][\u001b[38;5;34m0\u001b[0m]      │\n",
              "├───────────────────────────┼────────────────────────┼────────────────┼────────────────────────┤\n",
              "│ not_equal_1 (\u001b[38;5;33mNotEqual\u001b[0m)    │ (\u001b[38;5;45mNone\u001b[0m, \u001b[38;5;34m40\u001b[0m)             │              \u001b[38;5;34m0\u001b[0m │ scene_input[\u001b[38;5;34m0\u001b[0m][\u001b[38;5;34m0\u001b[0m]      │\n",
              "├───────────────────────────┼────────────────────────┼────────────────┼────────────────────────┤\n",
              "│ lstm (\u001b[38;5;33mLSTM\u001b[0m)               │ (\u001b[38;5;45mNone\u001b[0m, \u001b[38;5;34m64\u001b[0m)             │         \u001b[38;5;34m49,408\u001b[0m │ embedding[\u001b[38;5;34m0\u001b[0m][\u001b[38;5;34m0\u001b[0m],       │\n",
              "│                           │                        │                │ not_equal[\u001b[38;5;34m0\u001b[0m][\u001b[38;5;34m0\u001b[0m]        │\n",
              "├───────────────────────────┼────────────────────────┼────────────────┼────────────────────────┤\n",
              "│ lstm_1 (\u001b[38;5;33mLSTM\u001b[0m)             │ (\u001b[38;5;45mNone\u001b[0m, \u001b[38;5;34m64\u001b[0m)             │         \u001b[38;5;34m49,408\u001b[0m │ embedding_1[\u001b[38;5;34m0\u001b[0m][\u001b[38;5;34m0\u001b[0m],     │\n",
              "│                           │                        │                │ not_equal_1[\u001b[38;5;34m0\u001b[0m][\u001b[38;5;34m0\u001b[0m]      │\n",
              "├───────────────────────────┼────────────────────────┼────────────────┼────────────────────────┤\n",
              "│ concatenate (\u001b[38;5;33mConcatenate\u001b[0m) │ (\u001b[38;5;45mNone\u001b[0m, \u001b[38;5;34m128\u001b[0m)            │              \u001b[38;5;34m0\u001b[0m │ lstm[\u001b[38;5;34m0\u001b[0m][\u001b[38;5;34m0\u001b[0m],            │\n",
              "│                           │                        │                │ lstm_1[\u001b[38;5;34m0\u001b[0m][\u001b[38;5;34m0\u001b[0m]           │\n",
              "├───────────────────────────┼────────────────────────┼────────────────┼────────────────────────┤\n",
              "│ dense (\u001b[38;5;33mDense\u001b[0m)             │ (\u001b[38;5;45mNone\u001b[0m, \u001b[38;5;34m64\u001b[0m)             │          \u001b[38;5;34m8,256\u001b[0m │ concatenate[\u001b[38;5;34m0\u001b[0m][\u001b[38;5;34m0\u001b[0m]      │\n",
              "├───────────────────────────┼────────────────────────┼────────────────┼────────────────────────┤\n",
              "│ dense_1 (\u001b[38;5;33mDense\u001b[0m)           │ (\u001b[38;5;45mNone\u001b[0m, \u001b[38;5;34m28\u001b[0m)             │          \u001b[38;5;34m1,820\u001b[0m │ dense[\u001b[38;5;34m0\u001b[0m][\u001b[38;5;34m0\u001b[0m]            │\n",
              "└───────────────────────────┴────────────────────────┴────────────────┴────────────────────────┘\n"
            ],
            "text/html": [
              "<pre style=\"white-space:pre;overflow-x:auto;line-height:normal;font-family:Menlo,'DejaVu Sans Mono',consolas,'Courier New',monospace\">┏━━━━━━━━━━━━━━━━━━━━━━━━━━━┳━━━━━━━━━━━━━━━━━━━━━━━━┳━━━━━━━━━━━━━━━━┳━━━━━━━━━━━━━━━━━━━━━━━━┓\n",
              "┃<span style=\"font-weight: bold\"> Layer (type)              </span>┃<span style=\"font-weight: bold\"> Output Shape           </span>┃<span style=\"font-weight: bold\">        Param # </span>┃<span style=\"font-weight: bold\"> Connected to           </span>┃\n",
              "┡━━━━━━━━━━━━━━━━━━━━━━━━━━━╇━━━━━━━━━━━━━━━━━━━━━━━━╇━━━━━━━━━━━━━━━━╇━━━━━━━━━━━━━━━━━━━━━━━━┩\n",
              "│ question_input            │ (<span style=\"color: #00d7ff; text-decoration-color: #00d7ff\">None</span>, <span style=\"color: #00af00; text-decoration-color: #00af00\">43</span>)             │              <span style=\"color: #00af00; text-decoration-color: #00af00\">0</span> │ -                      │\n",
              "│ (<span style=\"color: #0087ff; text-decoration-color: #0087ff\">InputLayer</span>)              │                        │                │                        │\n",
              "├───────────────────────────┼────────────────────────┼────────────────┼────────────────────────┤\n",
              "│ scene_input (<span style=\"color: #0087ff; text-decoration-color: #0087ff\">InputLayer</span>)  │ (<span style=\"color: #00d7ff; text-decoration-color: #00d7ff\">None</span>, <span style=\"color: #00af00; text-decoration-color: #00af00\">40</span>)             │              <span style=\"color: #00af00; text-decoration-color: #00af00\">0</span> │ -                      │\n",
              "├───────────────────────────┼────────────────────────┼────────────────┼────────────────────────┤\n",
              "│ embedding (<span style=\"color: #0087ff; text-decoration-color: #0087ff\">Embedding</span>)     │ (<span style=\"color: #00d7ff; text-decoration-color: #00d7ff\">None</span>, <span style=\"color: #00af00; text-decoration-color: #00af00\">43</span>, <span style=\"color: #00af00; text-decoration-color: #00af00\">128</span>)        │         <span style=\"color: #00af00; text-decoration-color: #00af00\">10,496</span> │ question_input[<span style=\"color: #00af00; text-decoration-color: #00af00\">0</span>][<span style=\"color: #00af00; text-decoration-color: #00af00\">0</span>]   │\n",
              "├───────────────────────────┼────────────────────────┼────────────────┼────────────────────────┤\n",
              "│ not_equal (<span style=\"color: #0087ff; text-decoration-color: #0087ff\">NotEqual</span>)      │ (<span style=\"color: #00d7ff; text-decoration-color: #00d7ff\">None</span>, <span style=\"color: #00af00; text-decoration-color: #00af00\">43</span>)             │              <span style=\"color: #00af00; text-decoration-color: #00af00\">0</span> │ question_input[<span style=\"color: #00af00; text-decoration-color: #00af00\">0</span>][<span style=\"color: #00af00; text-decoration-color: #00af00\">0</span>]   │\n",
              "├───────────────────────────┼────────────────────────┼────────────────┼────────────────────────┤\n",
              "│ embedding_1 (<span style=\"color: #0087ff; text-decoration-color: #0087ff\">Embedding</span>)   │ (<span style=\"color: #00d7ff; text-decoration-color: #00d7ff\">None</span>, <span style=\"color: #00af00; text-decoration-color: #00af00\">40</span>, <span style=\"color: #00af00; text-decoration-color: #00af00\">128</span>)        │          <span style=\"color: #00af00; text-decoration-color: #00af00\">1,920</span> │ scene_input[<span style=\"color: #00af00; text-decoration-color: #00af00\">0</span>][<span style=\"color: #00af00; text-decoration-color: #00af00\">0</span>]      │\n",
              "├───────────────────────────┼────────────────────────┼────────────────┼────────────────────────┤\n",
              "│ not_equal_1 (<span style=\"color: #0087ff; text-decoration-color: #0087ff\">NotEqual</span>)    │ (<span style=\"color: #00d7ff; text-decoration-color: #00d7ff\">None</span>, <span style=\"color: #00af00; text-decoration-color: #00af00\">40</span>)             │              <span style=\"color: #00af00; text-decoration-color: #00af00\">0</span> │ scene_input[<span style=\"color: #00af00; text-decoration-color: #00af00\">0</span>][<span style=\"color: #00af00; text-decoration-color: #00af00\">0</span>]      │\n",
              "├───────────────────────────┼────────────────────────┼────────────────┼────────────────────────┤\n",
              "│ lstm (<span style=\"color: #0087ff; text-decoration-color: #0087ff\">LSTM</span>)               │ (<span style=\"color: #00d7ff; text-decoration-color: #00d7ff\">None</span>, <span style=\"color: #00af00; text-decoration-color: #00af00\">64</span>)             │         <span style=\"color: #00af00; text-decoration-color: #00af00\">49,408</span> │ embedding[<span style=\"color: #00af00; text-decoration-color: #00af00\">0</span>][<span style=\"color: #00af00; text-decoration-color: #00af00\">0</span>],       │\n",
              "│                           │                        │                │ not_equal[<span style=\"color: #00af00; text-decoration-color: #00af00\">0</span>][<span style=\"color: #00af00; text-decoration-color: #00af00\">0</span>]        │\n",
              "├───────────────────────────┼────────────────────────┼────────────────┼────────────────────────┤\n",
              "│ lstm_1 (<span style=\"color: #0087ff; text-decoration-color: #0087ff\">LSTM</span>)             │ (<span style=\"color: #00d7ff; text-decoration-color: #00d7ff\">None</span>, <span style=\"color: #00af00; text-decoration-color: #00af00\">64</span>)             │         <span style=\"color: #00af00; text-decoration-color: #00af00\">49,408</span> │ embedding_1[<span style=\"color: #00af00; text-decoration-color: #00af00\">0</span>][<span style=\"color: #00af00; text-decoration-color: #00af00\">0</span>],     │\n",
              "│                           │                        │                │ not_equal_1[<span style=\"color: #00af00; text-decoration-color: #00af00\">0</span>][<span style=\"color: #00af00; text-decoration-color: #00af00\">0</span>]      │\n",
              "├───────────────────────────┼────────────────────────┼────────────────┼────────────────────────┤\n",
              "│ concatenate (<span style=\"color: #0087ff; text-decoration-color: #0087ff\">Concatenate</span>) │ (<span style=\"color: #00d7ff; text-decoration-color: #00d7ff\">None</span>, <span style=\"color: #00af00; text-decoration-color: #00af00\">128</span>)            │              <span style=\"color: #00af00; text-decoration-color: #00af00\">0</span> │ lstm[<span style=\"color: #00af00; text-decoration-color: #00af00\">0</span>][<span style=\"color: #00af00; text-decoration-color: #00af00\">0</span>],            │\n",
              "│                           │                        │                │ lstm_1[<span style=\"color: #00af00; text-decoration-color: #00af00\">0</span>][<span style=\"color: #00af00; text-decoration-color: #00af00\">0</span>]           │\n",
              "├───────────────────────────┼────────────────────────┼────────────────┼────────────────────────┤\n",
              "│ dense (<span style=\"color: #0087ff; text-decoration-color: #0087ff\">Dense</span>)             │ (<span style=\"color: #00d7ff; text-decoration-color: #00d7ff\">None</span>, <span style=\"color: #00af00; text-decoration-color: #00af00\">64</span>)             │          <span style=\"color: #00af00; text-decoration-color: #00af00\">8,256</span> │ concatenate[<span style=\"color: #00af00; text-decoration-color: #00af00\">0</span>][<span style=\"color: #00af00; text-decoration-color: #00af00\">0</span>]      │\n",
              "├───────────────────────────┼────────────────────────┼────────────────┼────────────────────────┤\n",
              "│ dense_1 (<span style=\"color: #0087ff; text-decoration-color: #0087ff\">Dense</span>)           │ (<span style=\"color: #00d7ff; text-decoration-color: #00d7ff\">None</span>, <span style=\"color: #00af00; text-decoration-color: #00af00\">28</span>)             │          <span style=\"color: #00af00; text-decoration-color: #00af00\">1,820</span> │ dense[<span style=\"color: #00af00; text-decoration-color: #00af00\">0</span>][<span style=\"color: #00af00; text-decoration-color: #00af00\">0</span>]            │\n",
              "└───────────────────────────┴────────────────────────┴────────────────┴────────────────────────┘\n",
              "</pre>\n"
            ]
          },
          "metadata": {}
        },
        {
          "output_type": "display_data",
          "data": {
            "text/plain": [
              "\u001b[1m Total params: \u001b[0m\u001b[38;5;34m121,308\u001b[0m (473.86 KB)\n"
            ],
            "text/html": [
              "<pre style=\"white-space:pre;overflow-x:auto;line-height:normal;font-family:Menlo,'DejaVu Sans Mono',consolas,'Courier New',monospace\"><span style=\"font-weight: bold\"> Total params: </span><span style=\"color: #00af00; text-decoration-color: #00af00\">121,308</span> (473.86 KB)\n",
              "</pre>\n"
            ]
          },
          "metadata": {}
        },
        {
          "output_type": "display_data",
          "data": {
            "text/plain": [
              "\u001b[1m Trainable params: \u001b[0m\u001b[38;5;34m121,308\u001b[0m (473.86 KB)\n"
            ],
            "text/html": [
              "<pre style=\"white-space:pre;overflow-x:auto;line-height:normal;font-family:Menlo,'DejaVu Sans Mono',consolas,'Courier New',monospace\"><span style=\"font-weight: bold\"> Trainable params: </span><span style=\"color: #00af00; text-decoration-color: #00af00\">121,308</span> (473.86 KB)\n",
              "</pre>\n"
            ]
          },
          "metadata": {}
        },
        {
          "output_type": "display_data",
          "data": {
            "text/plain": [
              "\u001b[1m Non-trainable params: \u001b[0m\u001b[38;5;34m0\u001b[0m (0.00 B)\n"
            ],
            "text/html": [
              "<pre style=\"white-space:pre;overflow-x:auto;line-height:normal;font-family:Menlo,'DejaVu Sans Mono',consolas,'Courier New',monospace\"><span style=\"font-weight: bold\"> Non-trainable params: </span><span style=\"color: #00af00; text-decoration-color: #00af00\">0</span> (0.00 B)\n",
              "</pre>\n"
            ]
          },
          "metadata": {}
        }
      ],
      "source": [
        "model.summary()"
      ]
    },
    {
      "cell_type": "code",
      "execution_count": null,
      "id": "49b6f8ff-4fc1-413e-842a-25103818f2c5",
      "metadata": {
        "colab": {
          "base_uri": "https://localhost:8080/"
        },
        "id": "49b6f8ff-4fc1-413e-842a-25103818f2c5",
        "outputId": "5e6bd199-28f5-410c-8675-786f12bfe403"
      },
      "outputs": [
        {
          "output_type": "stream",
          "name": "stdout",
          "text": [
            "Epoch 1/10\n",
            "\u001b[1m21875/21875\u001b[0m \u001b[32m━━━━━━━━━━━━━━━━━━━━\u001b[0m\u001b[37m\u001b[0m \u001b[1m1948s\u001b[0m 89ms/step - accuracy: 0.4572 - loss: 1.0619 - val_accuracy: 0.5257 - val_loss: 0.8912\n",
            "Epoch 2/10\n",
            "\u001b[1m21875/21875\u001b[0m \u001b[32m━━━━━━━━━━━━━━━━━━━━\u001b[0m\u001b[37m\u001b[0m \u001b[1m1952s\u001b[0m 87ms/step - accuracy: 0.5345 - loss: 0.8757 - val_accuracy: 0.5343 - val_loss: 0.8598\n",
            "Epoch 3/10\n",
            "\u001b[1m21875/21875\u001b[0m \u001b[32m━━━━━━━━━━━━━━━━━━━━\u001b[0m\u001b[37m\u001b[0m \u001b[1m1888s\u001b[0m 86ms/step - accuracy: 0.5414 - loss: 0.8524 - val_accuracy: 0.5481 - val_loss: 0.8426\n",
            "Epoch 4/10\n",
            "\u001b[1m21875/21875\u001b[0m \u001b[32m━━━━━━━━━━━━━━━━━━━━\u001b[0m\u001b[37m\u001b[0m \u001b[1m1949s\u001b[0m 87ms/step - accuracy: 0.5483 - loss: 0.8406 - val_accuracy: 0.5468 - val_loss: 0.8376\n",
            "Epoch 5/10\n",
            "\u001b[1m21875/21875\u001b[0m \u001b[32m━━━━━━━━━━━━━━━━━━━━\u001b[0m\u001b[37m\u001b[0m \u001b[1m1945s\u001b[0m 87ms/step - accuracy: 0.5526 - loss: 0.8320 - val_accuracy: 0.5560 - val_loss: 0.8363\n",
            "Epoch 6/10\n",
            "\u001b[1m21875/21875\u001b[0m \u001b[32m━━━━━━━━━━━━━━━━━━━━\u001b[0m\u001b[37m\u001b[0m \u001b[1m1938s\u001b[0m 87ms/step - accuracy: 0.5559 - loss: 0.8250 - val_accuracy: 0.5577 - val_loss: 0.8258\n",
            "Epoch 7/10\n",
            "\u001b[1m21875/21875\u001b[0m \u001b[32m━━━━━━━━━━━━━━━━━━━━\u001b[0m\u001b[37m\u001b[0m \u001b[1m1865s\u001b[0m 85ms/step - accuracy: 0.5604 - loss: 0.8181 - val_accuracy: 0.5581 - val_loss: 0.8215\n",
            "Epoch 8/10\n",
            "\u001b[1m21875/21875\u001b[0m \u001b[32m━━━━━━━━━━━━━━━━━━━━\u001b[0m\u001b[37m\u001b[0m \u001b[1m1994s\u001b[0m 90ms/step - accuracy: 0.5622 - loss: 0.8138 - val_accuracy: 0.5621 - val_loss: 0.8168\n",
            "Epoch 9/10\n",
            "\u001b[1m21875/21875\u001b[0m \u001b[32m━━━━━━━━━━━━━━━━━━━━\u001b[0m\u001b[37m\u001b[0m \u001b[1m1917s\u001b[0m 88ms/step - accuracy: 0.5668 - loss: 0.8086 - val_accuracy: 0.5655 - val_loss: 0.8145\n",
            "Epoch 10/10\n",
            "\u001b[1m21875/21875\u001b[0m \u001b[32m━━━━━━━━━━━━━━━━━━━━\u001b[0m\u001b[37m\u001b[0m \u001b[1m1912s\u001b[0m 87ms/step - accuracy: 0.5695 - loss: 0.8041 - val_accuracy: 0.5666 - val_loss: 0.8135\n"
          ]
        }
      ],
      "source": [
        "history = model.fit(\n",
        "    {'question_input': X_train_questions_padded, 'scene_input': X_train_scenes_padded},\n",
        "    y_train_encoded,\n",
        "    epochs=10,\n",
        "    batch_size=32,\n",
        "    validation_data=(\n",
        "        {'question_input': X_val_questions_padded, 'scene_input': X_val_scenes_padded},\n",
        "        y_val_encoded\n",
        "    )\n",
        ")"
      ]
    },
    {
      "cell_type": "code",
      "execution_count": null,
      "id": "441e9f93-e5a5-4064-adee-97a3ebcf72b6",
      "metadata": {
        "id": "441e9f93-e5a5-4064-adee-97a3ebcf72b6",
        "outputId": "1f905e74-a82e-4574-c535-6962f22dd3c9",
        "colab": {
          "base_uri": "https://localhost:8080/",
          "height": 507
        }
      },
      "outputs": [
        {
          "output_type": "display_data",
          "data": {
            "text/plain": [
              "<Figure size 1200x500 with 2 Axes>"
            ],
            "image/png": "[encoded data removed]"
          },
          "metadata": {}
        }
      ],
      "source": [
        "plt.figure(figsize=(12, 5))\n",
        "\n",
        "plt.subplot(1, 2, 1)\n",
        "plt.plot(history.history['accuracy'], label='T-Accuracy', marker='o')\n",
        "plt.plot(history.history['val_accuracy'], label='V-Accuracy', marker='o')\n",
        "plt.title('Accuracy')\n",
        "plt.xlabel('Epoch')\n",
        "plt.ylabel('Acc')\n",
        "plt.legend()\n",
        "plt.grid(True)\n",
        "\n",
        "plt.subplot(1, 2, 2)\n",
        "plt.plot(history.history['loss'], label='T-Loss', marker='o')\n",
        "plt.plot(history.history['val_loss'], label='V-Loss', marker='o')\n",
        "plt.title('Loss')\n",
        "plt.xlabel('Epoch')\n",
        "plt.ylabel('Loss')\n",
        "plt.legend()\n",
        "plt.grid(True)\n",
        "\n",
        "plt.tight_layout()\n",
        "plt.show()"
      ]
    },
    {
      "cell_type": "code",
      "execution_count": 13,
      "id": "4fed8012-1e20-4ee2-b787-90534aa2a17c",
      "metadata": {
        "id": "4fed8012-1e20-4ee2-b787-90534aa2a17c",
        "outputId": "872538b2-3af0-4e73-d621-067c8bac62bb",
        "colab": {
          "base_uri": "https://localhost:8080/"
        }
      },
      "outputs": [
        {
          "output_type": "stream",
          "name": "stdout",
          "text": [
            "\u001b[1m1/1\u001b[0m \u001b[32m━━━━━━━━━━━━━━━━━━━━\u001b[0m\u001b[37m\u001b[0m \u001b[1m1s\u001b[0m 808ms/step\n",
            "--------------------------------------------------------------------------\n",
            "Question: Are there more rubber blocks than gray metal spheres?\n",
            "True Answer: yes\n",
            "Predicted Answer: no\n",
            "--------------------------------------------------------------------------\n",
            "\n",
            "--------------------------------------------------------------------------\n",
            "Question: Is the size of the rubber cube left of the purple metallic object the same as the yellow cube?\n",
            "True Answer: no\n",
            "Predicted Answer: 6\n",
            "--------------------------------------------------------------------------\n",
            "\n",
            "--------------------------------------------------------------------------\n",
            "Question: Do the rubber object that is left of the shiny object and the red cube in front of the big blue object have the same size?\n",
            "True Answer: no\n",
            "Predicted Answer: purple\n",
            "--------------------------------------------------------------------------\n",
            "\n",
            "--------------------------------------------------------------------------\n",
            "Question: There is a matte cylinder that is the same size as the cyan matte object; what is its color?\n",
            "True Answer: brown\n",
            "Predicted Answer: purple\n",
            "--------------------------------------------------------------------------\n",
            "\n",
            "--------------------------------------------------------------------------\n",
            "Question: Is the number of yellow rubber objects less than the number of cyan matte things?\n",
            "True Answer: no\n",
            "Predicted Answer: 6\n",
            "--------------------------------------------------------------------------\n",
            "\n"
          ]
        }
      ],
      "source": [
        "indices = np.random.choice(len(X_val_questions_padded), 5, replace=False)\n",
        "\n",
        "test_questions = X_val_questions_padded[indices]\n",
        "test_scenes = X_val_scenes_padded[indices]\n",
        "test_labels = y_val_encoded[indices]\n",
        "\n",
        "predict = model.predict({'question_input': test_questions, 'scene_input': test_scenes})\n",
        "predicted = np.argmax(predict, axis=1)\n",
        "\n",
        "for i, idx in enumerate(indices):\n",
        "    question_text = val_questions['questions'][idx]['question'] # original question\n",
        "    true_answer = label_encoder.inverse_transform([test_labels[i]])[0]\n",
        "    pred_answer = label_encoder.inverse_transform([predicted[i]])[0]\n",
        "    print(f\"--------------------------------------------------------------------------\\nQuestion: {question_text}\\nTrue Answer: {true_answer}\\nPredicted Answer: {pred_answer}\\n--------------------------------------------------------------------------\\n\")"
      ]
    }
  ],
  "metadata": {
    "colab": {
      "provenance": []
    },
    "kernelspec": {
      "display_name": "Python 3",
      "name": "python3"
    },
    "language_info": {
      "codemirror_mode": {
        "name": "ipython",
        "version": 3
      },
      "file_extension": ".py",
      "mimetype": "text/x-python",
      "name": "python",
      "nbconvert_exporter": "python",
      "pygments_lexer": "ipython3",
      "version": "3.12.5"
    }
  },
  "nbformat": 4,
  "nbformat_minor": 5
}